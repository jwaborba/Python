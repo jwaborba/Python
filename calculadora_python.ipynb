{
 "cells": [
  {
   "cell_type": "markdown",
   "metadata": {},
   "source": [
    "# Calculadora em Python"
   ]
  },
  {
   "cell_type": "code",
   "execution_count": 28,
   "metadata": {
    "scrolled": true
   },
   "outputs": [
    {
     "name": "stdout",
     "output_type": "stream",
     "text": [
      "Selecione o número da operação desejada: \n",
      "\n",
      "1 - Soma\n",
      "2 - Subtração\n",
      "3 - Multiplicação\n",
      "4 - Divisão\n",
      "5 - Potenciação\n",
      "Digite sua opção(1/2/3/4/5): 2\n",
      "Insira o primeiro número da operação: 10\n",
      "Insira o segundo número da operação: 20\n",
      "A subtração é de -10.0\n"
     ]
    }
   ],
   "source": [
    "print('Selecione o número da operação desejada: \\n\\n1 - Soma\\n2 - Subtração\\n3 - Multiplicação\\n4 - Divisão\\n5 - Potenciação')\n",
    "opcao = input('Digite sua opção(1/2/3/4/5): ')\n",
    "opcoes_validas = [1,2,3,4,5]\n",
    "n1 = float(input('Insira o primeiro número da operação: '))\n",
    "n2 = float(input('Insira o segundo número da operação: '))\n",
    "\n",
    "if int(opcao) in opcoes_validas:\n",
    "    if int(opcao) == 1:\n",
    "        soma = n1 + n2\n",
    "        print('A soma é de ' +str(soma))\n",
    "    elif int(opcao) ==2:\n",
    "        subtracao = n1 - n2\n",
    "        print('A subtração é de ' +str(subtracao))\n",
    "    elif int(opcao) ==3:\n",
    "        multiplicacao = n1 * n2\n",
    "        print('A multiplicacao é de ' +str(multiplicacao))\n",
    "    elif int(opcao) ==4:\n",
    "        divisao = n1 / n2\n",
    "        print('A divisão é de ' +str(divisao))\n",
    "    else:\n",
    "        potenciacao = n1 ** n2\n",
    "        print('A potenciação é de ' +str(potenciacao))\n",
    "else:\n",
    "    print('A operação é inválida')\n",
    "        "
   ]
  },
  {
   "cell_type": "code",
   "execution_count": null,
   "metadata": {},
   "outputs": [],
   "source": []
  }
 ],
 "metadata": {
  "kernelspec": {
   "display_name": "Python 3",
   "language": "python",
   "name": "python3"
  },
  "language_info": {
   "codemirror_mode": {
    "name": "ipython",
    "version": 3
   },
   "file_extension": ".py",
   "mimetype": "text/x-python",
   "name": "python",
   "nbconvert_exporter": "python",
   "pygments_lexer": "ipython3",
   "version": "3.7.4"
  }
 },
 "nbformat": 4,
 "nbformat_minor": 2
}
